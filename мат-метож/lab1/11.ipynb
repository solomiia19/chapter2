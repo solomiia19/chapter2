{
 "cells": [
  {
   "cell_type": "code",
   "execution_count": null,
   "id": "5dff80d4",
   "metadata": {},
   "outputs": [],
   "source": [
    "%pip install matplotlib\n",
    "%matplotlib inline"
   ]
  },
  {
   "cell_type": "code",
   "execution_count": null,
   "id": "32d8174e",
   "metadata": {},
   "outputs": [],
   "source": [
    "import matplotlib.pyplot as plt\n",
    "import numpy as np"
   ]
  },
  {
   "cell_type": "code",
   "execution_count": null,
   "id": "33c33653",
   "metadata": {},
   "outputs": [],
   "source": [
    "plt.plot([4, 88, 33, 98])\n",
    "plt.show()"
   ]
  },
  {
   "cell_type": "code",
   "execution_count": null,
   "id": "9cedbe64",
   "metadata": {},
   "outputs": [],
   "source": [
    "s = 500\n",
    "rng = np.random.default_rng(seed=308)\n",
    "x = rng.integers(1, 7, size=s, endpoint=True)\n",
    "y = rng.integers(4, 444, size=s, endpoint=True)\n",
    "\n",
    "plt.scatter(x, y)\n",
    "plt.xlabel('x')\n",
    "plt.ylabel('y')\n",
    "plt.title('Випадкові величини х та у')\n",
    "plt.plot(y.mean().repeat(x.max()+1), \"--\")\n",
    "plt.show()"
   ]
  },
  {
   "cell_type": "code",
   "execution_count": null,
   "id": "1e561cfc",
   "metadata": {},
   "outputs": [],
   "source": [
    "print(np.histogram(y))\n",
    "plt.hist(y)\n",
    "plt.show()"
   ]
  },
  {
   "cell_type": "code",
   "execution_count": null,
   "id": "4ca47573",
   "metadata": {},
   "outputs": [],
   "source": [
    "x = np.linspace(0, 5, 100)\n",
    "ya = (77 - x)/9\n",
    "yb = (22 - x)**1\n",
    "yc = (88 - x)\n",
    "yd = np.full_like(x, 3)\n",
    "\n",
    "plt.plot(x, ya, label='y = (77 - x)/4')\n",
    "plt.plot(x, yb, label='y = (22 - x)**1')\n",
    "plt.plot(x, yc, label='y = 88 - x')\n",
    "plt.plot(x, yd, label='y = 3')\n",
    "\n",
    "plt.title('Візуалізація')\n",
    "plt.xlabel('x')\n",
    "plt.ylabel('y')\n",
    "plt.legend()\n",
    "plt.show()"
   ]
  }
 ],
 "metadata": {
  "kernelspec": {
   "display_name": "Python 3",
   "language": "python",
   "name": "python3"
  },
  "language_info": {
   "name": "python",
   "version": "3.12.1"
  }
 },
 "nbformat": 4,
 "nbformat_minor": 5
}
