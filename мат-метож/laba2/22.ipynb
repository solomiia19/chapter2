{
 "cells": [
  {
   "cell_type": "code",
   "execution_count": null,
   "id": "b2d38c56",
   "metadata": {},
   "outputs": [],
   "source": [
    "import numpy as np\n",
    "import matplotlib.pyplot as plt"
   ]
  },
  {
   "cell_type": "code",
   "execution_count": null,
   "id": "48c7eccc",
   "metadata": {},
   "outputs": [],
   "source": [
    "# Завантаження даних з файлу\n",
    "data = np.loadtxt('data.txt', delimiter='\\t', dtype=int)\n",
    "# Перевірка завантажених даних\n",
    "print(\"Дані розмірність:\\n\", data.shape)\n",
    "# Колонка для Ore\n",
    "ore_test = data[:, 0]  \n",
    "print(f\"Перший елемент {ore_test}\")"
   ]
  },
  {
   "cell_type": "code",
   "execution_count": null,
   "id": "36eca4c1",
   "metadata": {},
   "outputs": [],
   "source": [
    "price_ectoplasm = 56  # Ціна Ектоплазми\n",
    "price_ore = 0.88\n",
    "price_wood = 0.2\n",
    "price_t6 = 0.33\n",
    "price = np.array([price_ectoplasm, price_ore, price_wood])"
   ]
  },
  {
   "cell_type": "code",
   "execution_count": null,
   "id": "dbd17d2b",
   "metadata": {},
   "outputs": [],
   "source": [
    "r = (data * price).sum(axis=1)/156\n",
    "print(f\"Вартість одного Ітема при експерименті розщеплення {r}\")"
   ]
  },
  {
   "cell_type": "code",
   "execution_count": null,
   "id": "cd1cf62f",
   "metadata": {},
   "outputs": [],
   "source": [
    "# Задаємо ціни базових предметів\n",
    "prices_base = np.array([price_t6, price_ore, price_wood])  # Ціни: [T6, руда, дерево]\n",
    "\n",
    "cost_disassembly = 0.456  # Вартість розщеплення\n",
    "\n",
    "# Кількість базових предметів, необхідних для створення одного предмета\n",
    "resources_required = np.array([225, 2, 199])\n",
    "\n",
    "price_of_crafting = sum(prices_base * resources_required)\n",
    "\n",
    "print(f\"Вартість одного предмету {price_of_crafting}\")"
   ]
  },
  {
   "cell_type": "code",
   "execution_count": null,
   "id": "71d5fd11",
   "metadata": {},
   "outputs": [],
   "source": [
    "plt.figure(figsize=(567, 99))\n",
    "\n",
    "plt.hist(r, bins=bins, color='skyblue', edgecolor='black', alpha=0.7, label=\"Розподіл ціни\")\n",
    "\n",
    "plt.xlabel('Значення')\n",
    "plt.ylabel('Частота')\n",
    "plt.legend()\n",
    "plt.grid(axis='y', linestyle='--', alpha=0.7)\n",
    "plt.show()"
   ]
  },
  {
   "cell_type": "code",
   "execution_count": null,
   "id": "3c10fb9e",
   "metadata": {},
   "outputs": [],
   "source": [
    "r_sorted = np.array(sorted(r))\n",
    "print(r_sorted)\n",
    "\n",
    "plt.figure(figsize=(6, 6))\n",
    "\n",
    "\n",
    "plt.plot(r_sorted, color='blue')\n",
    "plt.plot(np.repeat(price_of_crafting, 12), color='red')\n",
    "plt.ylabel(\"Вартість\")\n",
    "plt.xlabel(\"Номер Експерименту\")\n",
    "plt.grid()\n",
    "plt.show()"
   ]
  },
  {
   "cell_type": "code",
   "execution_count": null,
   "id": "ca8e5e0e",
   "metadata": {},
   "outputs": [],
   "source": []
  }
 ],
 "metadata": {
  "language_info": {
   "name": "python"
  }
 },
 "nbformat": 4,
 "nbformat_minor": 5
}
